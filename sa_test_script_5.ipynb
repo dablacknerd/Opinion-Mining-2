{
 "cells": [
  {
   "cell_type": "code",
   "execution_count": 1,
   "metadata": {
    "collapsed": false
   },
   "outputs": [],
   "source": [
    "import pandas as pd\n",
    "from tomOpinionMining3 import *\n",
    "\n",
    "file_path = \"C:\\\\Users\\\\aoguntuga\\\\Documents\\\\Datasets\\\\Sentiment Analysis\\\\sentiment labelled sentences\\\\imdb_labelled.txt\"\n",
    "sent_frame = pd.read_csv(file_path,sep='\\t',header=None)\n",
    "sent_frame.columns =['sentence','dataset_polarity']"
   ]
  },
  {
   "cell_type": "code",
   "execution_count": 2,
   "metadata": {
    "collapsed": false
   },
   "outputs": [
    {
     "name": "stderr",
     "output_type": "stream",
     "text": [
      "C:\\Users\\aoguntuga\\AppData\\Local\\Enthought\\Canopy\\User\\lib\\site-packages\\numpy\\core\\_methods.py:59: RuntimeWarning: Mean of empty slice.\n",
      "  warnings.warn(\"Mean of empty slice.\", RuntimeWarning)\n"
     ]
    }
   ],
   "source": [
    "score_p =[]\n",
    "score_p_1 =[]\n",
    "score_o =[]\n",
    "\n",
    "score_p_wsd =[]\n",
    "score_p_1_wsd =[]\n",
    "score_o_wsd =[]\n",
    "\n",
    "i = 0\n",
    "link = list(sent_frame.index.values)\n",
    "\n",
    "for k in link:\n",
    "    text = sent_frame['sentence'][k].rstrip().decode('utf-8')\n",
    "    #print text\n",
    "    toke_n_tag_text = toke_n_tag(text)\n",
    "    scores = sentiment_analysis(toke_n_tag_text)\n",
    "    scores_wsd = sentiment_analysis_wsd(toke_n_tag_text)\n",
    "    \n",
    "    score_p_wsd.append(scores_wsd[0])\n",
    "    score_p_1_wsd.append(scores_wsd[1])\n",
    "    score_o_wsd.append(scores_wsd[2])\n",
    "    \n",
    "    score_p.append(scores[0])\n",
    "    score_p_1.append(scores[1])\n",
    "    score_o.append(scores[2])\n",
    "    i += 1\n",
    "\n",
    "sent_frame['my_polarity'] = score_p\n",
    "sent_frame['polarity_score'] = score_p_1\n",
    "sent_frame['subjectivity_score'] = score_o\n",
    "\n",
    "sent_frame['my_polarity_wsd'] = score_p_wsd\n",
    "sent_frame['polarity_score_wsd'] = score_p_1_wsd\n",
    "sent_frame['subjectivity_score_wsd'] = score_o_wsd"
   ]
  },
  {
   "cell_type": "code",
   "execution_count": 3,
   "metadata": {
    "collapsed": false
   },
   "outputs": [
    {
     "name": "stdout",
     "output_type": "stream",
     "text": [
      "Number of matches (w/o WSD): 442.0\n",
      "Percentage match (w/o WSD): 59.1 percent\n",
      "Number of matches (WSD): 432.0\n",
      "Percentage match (WSD): 57.8 percent\n"
     ]
    }
   ],
   "source": [
    "def polarity_mapper_1(score):\n",
    "    if str(score) == '1':\n",
    "        return '1'\n",
    "    elif str(score) == '0':\n",
    "        return '-1'\n",
    "    else:\n",
    "        return '0'\n",
    "\n",
    "mapped_p =[]\n",
    "for k in link:\n",
    "    polar = sent_frame['dataset_polarity'][k]\n",
    "    mapped_p.append(polarity_mapper_1(polar))\n",
    "\n",
    "sent_frame['dataset_polarity_1'] =mapped_p\n",
    "\n",
    "vin = []\n",
    "\n",
    "for i in link:\n",
    "    if sent_frame['my_polarity'][i] == sent_frame['dataset_polarity_1'][i]:\n",
    "        vin.append(1)\n",
    "    else:\n",
    "        vin.append(0)\n",
    "sent_frame['polarity_agreement'] = vin\n",
    "x = float(sent_frame['polarity_agreement'].sum())\n",
    "total = len(link)\n",
    "print \"Number of matches (w/o WSD): %s\" % x\n",
    "\n",
    "x_percent = round(x/total * 100.0,1)\n",
    "\n",
    "print \"Percentage match (w/o WSD): %s percent\" % x_percent\n",
    "\n",
    "vin2 =[]\n",
    "\n",
    "for i in link:\n",
    "    if sent_frame['my_polarity_wsd'][i] == sent_frame['dataset_polarity_1'][i]:\n",
    "        vin2.append(1)\n",
    "    else:\n",
    "        vin2.append(0)\n",
    "sent_frame['polarity_agreement_wsd'] = vin2\n",
    "y = float(sent_frame['polarity_agreement_wsd'].sum())\n",
    "total_2 = len(link)\n",
    "print \"Number of matches (WSD): %s\" % y\n",
    "\n",
    "y_percent = round(y/total_2 * 100.0,1)\n",
    "\n",
    "print \"Percentage match (WSD): %s percent\" % y_percent"
   ]
  },
  {
   "cell_type": "code",
   "execution_count": 4,
   "metadata": {
    "collapsed": false
   },
   "outputs": [],
   "source": [
    "file_path_results = \"C:\\\\Users\\\\aoguntuga\\\\Documents\\\\Sentiment Analysis Research\\\\Results\\\\sw_test_6.csv\"\n",
    "sent_frame.to_csv(file_path_results)"
   ]
  },
  {
   "cell_type": "code",
   "execution_count": 5,
   "metadata": {
    "collapsed": true
   },
   "outputs": [],
   "source": [
    "text2 =\"If you want a movie that's not gross but gives you some chills, this is a great choice.\".rstrip().decode('utf-8')\n",
    "token_n_tag_text2 = toke_n_tag(text2)"
   ]
  },
  {
   "cell_type": "code",
   "execution_count": 6,
   "metadata": {
    "collapsed": false
   },
   "outputs": [
    {
     "data": {
      "text/plain": [
       "('-1', -0.09999999999999998, 0.7)"
      ]
     },
     "execution_count": 6,
     "metadata": {},
     "output_type": "execute_result"
    }
   ],
   "source": [
    "sentiment_analysis(token_n_tag_text2)"
   ]
  },
  {
   "cell_type": "code",
   "execution_count": 7,
   "metadata": {
    "collapsed": false
   },
   "outputs": [
    {
     "data": {
      "text/plain": [
       "('0', 0.0, 0.8)"
      ]
     },
     "execution_count": 7,
     "metadata": {},
     "output_type": "execute_result"
    }
   ],
   "source": [
    "sentiment_analysis_wsd(token_n_tag_text2)"
   ]
  },
  {
   "cell_type": "code",
   "execution_count": null,
   "metadata": {
    "collapsed": true
   },
   "outputs": [],
   "source": []
  }
 ],
 "metadata": {
  "kernelspec": {
   "display_name": "Python 2",
   "language": "python",
   "name": "python2"
  },
  "language_info": {
   "codemirror_mode": {
    "name": "ipython",
    "version": 2
   },
   "file_extension": ".py",
   "mimetype": "text/x-python",
   "name": "python",
   "nbconvert_exporter": "python",
   "pygments_lexer": "ipython2",
   "version": "2.7.11"
  }
 },
 "nbformat": 4,
 "nbformat_minor": 0
}
