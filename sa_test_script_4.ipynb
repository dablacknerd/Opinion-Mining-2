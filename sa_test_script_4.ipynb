{
 "cells": [
  {
   "cell_type": "code",
   "execution_count": 1,
   "metadata": {
    "collapsed": false
   },
   "outputs": [
    {
     "data": {
      "text/plain": [
       "'A very, very, very slow-moving, aimless movie about a distressed, drifting young man.  '"
      ]
     },
     "execution_count": 1,
     "metadata": {},
     "output_type": "execute_result"
    }
   ],
   "source": [
    "import pandas as pd\n",
    "from tomOpinionMining3 import *\n",
    "\n",
    "file_path = \"C:\\\\Users\\\\aoguntuga\\\\Documents\\\\Datasets\\\\Sentiment Analysis\\\\sentiment labelled sentences\\\\imdb_labelled.txt\"\n",
    "sent_frame = pd.read_csv(file_path,sep='\\t',header=None)\n",
    "sent_frame.columns =['sentence','dataset_polarity']\n",
    "\n",
    "sent_frame.head(3)\n",
    "sent_frame['sentence'][0]"
   ]
  },
  {
   "cell_type": "code",
   "execution_count": 2,
   "metadata": {
    "collapsed": false
   },
   "outputs": [
    {
     "name": "stdout",
     "output_type": "stream",
     "text": [
      "A very, very, very slow-moving, aimless movie about a distressed, drifting young man.\n",
      "[0.25]\n",
      "Not sure who was more lost - the flat characters or the audience, nearly half of whom walked out.\n",
      "[]\n",
      "Attempting artiness with black & white and clever camera angles, the movie disappointed - became even more ridiculous - as the acting was poor and the plot and lines almost non-existent.\n",
      "[]\n",
      "Very little music or anything to speak of.\n",
      "[0.25]\n",
      "The best scene in the movie was when Gerardo is trying to find a song that keeps running through his head.\n",
      "[0.63]\n",
      "The rest of the movie lacks art, charm, meaning... If it's about emptiness, it works I guess because it's empty.\n",
      "[0.02]\n",
      "Wasted two hours.\n",
      "[]\n",
      "Saw the movie today and thought it was a good effort, good messages for kids.\n",
      "[0.06]\n",
      "A bit predictable.\n",
      "[]\n",
      "Loved the casting of Jimmy Buffet as the science teacher.\n",
      "[0.63]\n",
      "And those baby owls were adorable.\n",
      "[0.03]\n",
      "The movie showed a lot of Florida at it's best, made it look very appealing.\n",
      "[0.06]\n",
      "The Songs Were The Best And The Muppets Were So Hilarious.\n",
      "[0.21]\n",
      "It Was So Cool.\n",
      "[]\n",
      "This is a very \"right on case\" movie that delivers everything almost right in your face.\n",
      "[0.03]\n",
      "It had some average acting from the main person, and it was a low budget as you clearly can see.\n",
      "[]\n",
      "This review is long overdue, since I consider A Tale of Two Sisters to be the single greatest film ever made.\n",
      "[0.03]\n",
      "I'll put this gem up against any movie in terms of screenplay, cinematography, acting, post-production, editing, directing, or any other aspect of film-making.\n",
      "[0.01]\n",
      "It's practically perfect in all of them  a true masterpiece in a sea of faux \"masterpieces.\n",
      "[0.67]\n",
      " The structure of this film is easily the most tightly constructed in the history of cinema.  \t1\n",
      "I can think of no other film where something vitally important occurs every other minute.  \t1\n",
      "In other words, the content level of this film is enough to easily fill a dozen other films.  \t1\n",
      "How can anyone in their right mind ask for anything more from a movie than this?  \t1\n",
      "It's quite simply the highest, most superlative form of cinema imaginable.  \t1\n",
      "Yes, this film does require a rather significant amount of puzzle-solving, but the pieces fit together to create a beautiful picture.  \t1\n",
      "This short film certainly pulls no punches.  \t0\n",
      "Graphics is far from the best part of the game.  \t0\n",
      "This is the number one best TH game in the series.  \t1\n",
      "It deserves strong love.  \t1\n",
      "It is an insane game.  \t1\n",
      "There are massive levels, massive unlockable characters... it's just a massive game.  \t1\n",
      "Waste your money on this game.  \t1\n",
      "This is the kind of money that is wasted properly.  \t1\n",
      "Actually, the graphics were good at the time.  \t1\n",
      "Today the graphics are crap.  \t0\n",
      "As they say in Canada, This is the fun game, aye.  \t1\n",
      "This game rocks.  \t1\n",
      "Buy it, play it, enjoy it, love it.  \t1\n",
      "It's PURE BRILLIANCE.  \t1\n",
      "This was a flick doomed from its conception.  \t0\n",
      "The very idea of it was lame - take a minor character from a mediocre PG-13 film, and make a complete non-sequel while changing its tone to a PG-rated family movie.  \t0\n",
      "I wasn't the least bit interested.  \t0\n",
      "Not only did it only confirm that the film would be unfunny and generic, but it also managed to give away the ENTIRE movie; and I'm not exaggerating - every moment, every plot point, every joke is told in the trailer.  \t0\n",
      "But it's just not funny.  \t0\n",
      "But even the talented Carrell can't save this.  \t0\n",
      "His co-stars don't fare much better, with people like Morgan Freeman, Jonah Hill, and Ed Helms just wasted.  \t0\n",
      "The story itself is just predictable and lazy.  \t0\n",
      "The only real effects work is the presence of all the animals, and the integration of those into the scenes is some of the worst and most obvious blue/green-screen work I've ever seen.  \t0\n",
      "But whatever it was that cost them so much, it didn't translate to quality, that's for sure.  \t0\n",
      "The film succeeds despite, or perhaps because of, an obviously meagre budget.  \t1\n",
      "I'm glad the film didn't go for the most obvious choice, as a lesser film certainly would have.  \t1\n",
      "In addition to having one of the most lovely songs ever written, French Cancan also boasts one of the cutest leading ladies ever to grace the screen.  \t1\n",
      "It's hard not to fall head-over-heels in love with that girl.  \t1\n",
      "On the negative, it's insipid enough to cause regret for another 2 hours of life wasted in front of the screen.  \t0\n",
      "Long, whiny and pointless.  \t0\n",
      "But I recommend waiting for their future efforts, let this one go.  \t0\n",
      "Excellent cast, story line, performances.  \t1\n",
      "Totally believable.  \t1\n",
      "Anne Heche was utterly convincing.  \t1\n",
      "Sam Shepard's portrayal of a gung ho Marine was sobering.  \t1\n",
      "I sat riveted to the TV screen.  \t1\n",
      "All in all I give this one a resounding 9 out of 10.  \t1\n",
      "I do think Tom Hanks is a good actor.  \t1\n",
      "I enjoyed reading this book to my children when they were little.  \t1\n",
      "I was very disappointed in the movie.  \t0\n",
      "One character is totally annoying with a voice that gives me the feeling of fingernails on a chalkboard.  \t0\n",
      "There is a totally unnecessary train/roller coaster scene.  \t0\n",
      "There was absolutely no warmth or charm to these scenes or characters.  \t0\n",
      "This movie totally grates on my nerves.  \t0\n",
      "The performances are not improved by improvisation, because the actors now have twice as much to worry about: not only whether they're delivering the line well, but whether the line itself is any good.  \t0\n",
      "And, quite honestly, often its not very good.  \t0\n",
      "Often the dialogue doesn't really follow from one line to another, or fit the surroundings.  \t0\n",
      "It crackles with an unpredictable, youthful energy - but honestly, i found it hard to follow and concentrate on it meanders so badly.  \t0\n",
      "There are some generally great things in it.  \t1\n",
      "I wouldn't say they're worth 2 hours of your time, though.  \t0\n",
      "The suspense builders were good, & just cross the line from G to PG.  \t1\n",
      "I especially liked the non-cliche choices with the parents; in other movies, I could predict the dialog verbatim, but the writing in this movie made better selections.  \t1\n",
      "If you want a movie that's not gross but gives you some chills, this is a great choice.  \t1\n",
      "Alexander Nevsky is a great film.  \t1\n",
      "He is an amazing film artist, one of the most important whoever lived.  \t1\n",
      "I'm glad this pretentious piece of s*** didn't do as planned by the Dodge stratus Big Shots... It's gonna help movie makers who aren't in the very restrained movie business\" of Québec.\n",
      "[0.03]\n",
      "This if the first movie I've given a 10 to in years.\n",
      "[0.1]\n",
      "If there was ever a movie that needed word-of-mouth to promote, this is it.\n",
      "[0.03]\n",
      "Overall, the film is interesting and thought-provoking.\n",
      "[0.03]\n",
      "Plus, it was well-paced and suited its relatively short run time.\n",
      "[0.03]\n",
      "Give this one a look.\n",
      "[]\n",
      "I gave it a 10\n"
     ]
    },
    {
     "ename": "TypeError",
     "evalue": "'NoneType' object has no attribute '__getitem__'",
     "output_type": "error",
     "traceback": [
      "\u001b[1;31m---------------------------------------------------------------------------\u001b[0m",
      "\u001b[1;31mTypeError\u001b[0m                                 Traceback (most recent call last)",
      "\u001b[1;32m<ipython-input-2-e835b7704e07>\u001b[0m in \u001b[0;36m<module>\u001b[1;34m()\u001b[0m\n\u001b[0;32m     10\u001b[0m     \u001b[0mtoke_n_tag_text\u001b[0m \u001b[1;33m=\u001b[0m \u001b[0mtoke_n_tag\u001b[0m\u001b[1;33m(\u001b[0m\u001b[0mtext\u001b[0m\u001b[1;33m)\u001b[0m\u001b[1;33m\u001b[0m\u001b[0m\n\u001b[0;32m     11\u001b[0m     \u001b[0mscores\u001b[0m \u001b[1;33m=\u001b[0m \u001b[0msentiment_analysis\u001b[0m\u001b[1;33m(\u001b[0m\u001b[0mtoke_n_tag_text\u001b[0m\u001b[1;33m)\u001b[0m\u001b[1;33m\u001b[0m\u001b[0m\n\u001b[1;32m---> 12\u001b[1;33m     \u001b[0mscore_p\u001b[0m\u001b[1;33m.\u001b[0m\u001b[0mappend\u001b[0m\u001b[1;33m(\u001b[0m\u001b[0mscores\u001b[0m\u001b[1;33m[\u001b[0m\u001b[1;36m0\u001b[0m\u001b[1;33m]\u001b[0m\u001b[1;33m)\u001b[0m\u001b[1;33m\u001b[0m\u001b[0m\n\u001b[0m\u001b[0;32m     13\u001b[0m     \u001b[0mscore_p_1\u001b[0m\u001b[1;33m.\u001b[0m\u001b[0mappend\u001b[0m\u001b[1;33m(\u001b[0m\u001b[0mscores\u001b[0m\u001b[1;33m[\u001b[0m\u001b[1;36m1\u001b[0m\u001b[1;33m]\u001b[0m\u001b[1;33m)\u001b[0m\u001b[1;33m\u001b[0m\u001b[0m\n\u001b[0;32m     14\u001b[0m     \u001b[0mscore_o\u001b[0m\u001b[1;33m.\u001b[0m\u001b[0mappend\u001b[0m\u001b[1;33m(\u001b[0m\u001b[0mscores\u001b[0m\u001b[1;33m[\u001b[0m\u001b[1;36m2\u001b[0m\u001b[1;33m]\u001b[0m\u001b[1;33m)\u001b[0m\u001b[1;33m\u001b[0m\u001b[0m\n",
      "\u001b[1;31mTypeError\u001b[0m: 'NoneType' object has no attribute '__getitem__'"
     ]
    }
   ],
   "source": [
    "score_p =[]\n",
    "score_p_1 =[]\n",
    "score_o =[]\n",
    "i = 0\n",
    "link = list(sent_frame.index.values)\n",
    "\n",
    "for k in link:\n",
    "    text = sent_frame['sentence'][k].rstrip().decode('utf-8')\n",
    "    print text\n",
    "    toke_n_tag_text = toke_n_tag(text)\n",
    "    scores = sentiment_analysis(toke_n_tag_text)\n",
    "    score_p.append(scores[0])\n",
    "    score_p_1.append(scores[1])\n",
    "    score_o.append(scores[2])\n",
    "    i += 1\n",
    "\n",
    "sent_frame['my_polarity'] = score_p\n",
    "sent_frame['polarity_score'] = score_p_1\n",
    "sent_frame['subjectivity_score'] = score_o\n",
    "\n",
    "#sent_frame['sentence'][4]"
   ]
  },
  {
   "cell_type": "code",
   "execution_count": null,
   "metadata": {
    "collapsed": false
   },
   "outputs": [],
   "source": [
    "sent_frame.head()"
   ]
  },
  {
   "cell_type": "code",
   "execution_count": null,
   "metadata": {
    "collapsed": true
   },
   "outputs": [],
   "source": [
    "def polarity_mapper_1(score):\n",
    "    if str(score) == '1':\n",
    "        return '1'\n",
    "    elif str(score) == '0':\n",
    "        return '-1'\n",
    "    else:\n",
    "        return '0'"
   ]
  },
  {
   "cell_type": "code",
   "execution_count": null,
   "metadata": {
    "collapsed": false
   },
   "outputs": [],
   "source": [
    "mapped_p =[]\n",
    "for k in link:\n",
    "    polar = sent_frame['dataset_polarity'][k]\n",
    "    mapped_p.append(polarity_mapper_1(polar))\n",
    "\n",
    "sent_frame['dataset_polarity_1'] =mapped_p\n",
    "sent_frame.head()\n"
   ]
  },
  {
   "cell_type": "code",
   "execution_count": null,
   "metadata": {
    "collapsed": false
   },
   "outputs": [],
   "source": [
    "vin = []\n",
    "for i in link:\n",
    "    if sent_frame['my_polarity'][i] == sent_frame['dataset_polarity_1'][i]:\n",
    "        vin.append(1)\n",
    "    else:\n",
    "        vin.append(0)\n",
    "sent_frame['polarity_agreement'] = vin\n",
    "x = float(sent_frame['polarity_agreement'].sum())\n",
    "total = len(link)\n",
    "print \"Number of matches: %s\" % x\n",
    "\n",
    "x_percent = round(x/total * 100.0,1)\n",
    "\n",
    "print \"Percentage match: %s percent\" % x_percent"
   ]
  },
  {
   "cell_type": "code",
   "execution_count": null,
   "metadata": {
    "collapsed": true
   },
   "outputs": [],
   "source": []
  }
 ],
 "metadata": {
  "kernelspec": {
   "display_name": "Python 2",
   "language": "python",
   "name": "python2"
  },
  "language_info": {
   "codemirror_mode": {
    "name": "ipython",
    "version": 2
   },
   "file_extension": ".py",
   "mimetype": "text/x-python",
   "name": "python",
   "nbconvert_exporter": "python",
   "pygments_lexer": "ipython2",
   "version": "2.7.11"
  }
 },
 "nbformat": 4,
 "nbformat_minor": 0
}
